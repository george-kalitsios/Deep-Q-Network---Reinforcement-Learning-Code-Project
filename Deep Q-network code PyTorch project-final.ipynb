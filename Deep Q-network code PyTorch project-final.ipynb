{
 "cells": [
  {
   "cell_type": "markdown",
   "id": "89009a8a",
   "metadata": {},
   "source": [
    "### We're going to be building and training a deep Q-network to learn to balance a pole on a moving cart.\n",
    "\n",
    "The cart and pole problem consists of a cart that can move left and right along a frictionless track. The cart has a pole attached to the top of it, which starts out in a vertical upright position, however, by design, the pole will fall either to the left or right when not balanced. The goal here is to prevent this pole from falling over. A reward of +1 will be given for each time step that the pole remains upright, and an episode will deemed over when the pole is more than 15 degrees from vertical or when the cart moves more than 2.4 units from the center of the screen. \n",
    "#### So, essentially, the longer the pole remains upright without deviating too far from the center of the screen, the more reward our agent will get. "
   ]
  },
  {
   "cell_type": "markdown",
   "id": "b746abe8",
   "metadata": {},
   "source": [
    "###### what would happen with no optimization for this cart and pole problem?\n",
    "below is a quick snippet of code that will run an instance of the cart and pole environment from Gym for 1000 time steps and will take a random action, either left or right, at each time step. We'll render the environment at each step so we can see what this will look like. "
   ]
  },
  {
   "cell_type": "code",
   "execution_count": 1,
   "id": "4abc741a",
   "metadata": {},
   "outputs": [],
   "source": [
    "# import gym\n",
    "\n",
    "# env = gym.make('CartPole-v0')\n",
    "# env.reset()\n",
    "\n",
    "# for _ in range(1000):\n",
    "#     env.render()\n",
    "#     env.step(env.action_space.sample())\n",
    "# env.close()"
   ]
  },
  {
   "cell_type": "markdown",
   "id": "92f14253",
   "metadata": {},
   "source": [
    "our deep Q-network will definitely have some learning to do so that it can balance the pole better than this! "
   ]
  },
  {
   "cell_type": "code",
   "execution_count": 2,
   "id": "3f325160",
   "metadata": {},
   "outputs": [],
   "source": [
    "# conda install pytorch-cpu torchvision-cpu -c pytorch"
   ]
  },
  {
   "cell_type": "markdown",
   "id": "f420a8b6",
   "metadata": {},
   "source": [
    "### DQN training process\n",
    "\n",
    "1. Initialize replay memory capacity.\n",
    "\n",
    "2. Initialize the policy network with random weights.\n",
    "\n",
    "3. Clone the policy network, and call it the target network.\n",
    "\n",
    "4. For each episode:\n",
    "    1.Initialize the starting state.\n",
    "    2.For each time step:\n",
    "        1.Select an action.\n",
    "            - Via exploration or exploitation\n",
    "        2.Execute selected action in an emulator.\n",
    "        3.Observe reward and next state.\n",
    "        4.Store experience in replay memory.\n",
    "        5.Sample random batch from replay memory.\n",
    "        6.Preprocess states from batch.\n",
    "        7.Pass batch of preprocessed states to policy network.\n",
    "        8.Calculate loss between output Q-values and target \n",
    "          Q-values. Requires a pass to the target network for the \n",
    "          next state\n",
    "        9.Gradient descent updates weights in the policy \n",
    "          network to minimize loss.After x time steps, weights \n",
    "          in the target network are updated to the weights in \n",
    "          the policy network."
   ]
  },
  {
   "cell_type": "code",
   "execution_count": 3,
   "id": "62a9b326",
   "metadata": {},
   "outputs": [
    {
     "data": {
      "text/plain": [
       "'1.1.0'"
      ]
     },
     "execution_count": 3,
     "metadata": {},
     "output_type": "execute_result"
    }
   ],
   "source": [
    "import torch\n",
    "torch.__version__"
   ]
  },
  {
   "cell_type": "markdown",
   "id": "947016fb",
   "metadata": {},
   "source": [
    "Import libraries "
   ]
  },
  {
   "cell_type": "code",
   "execution_count": 4,
   "id": "563ef5bf",
   "metadata": {},
   "outputs": [],
   "source": [
    "%matplotlib inline\n",
    "import gym\n",
    "import math\n",
    "import random\n",
    "import numpy as np\n",
    "import matplotlib\n",
    "import matplotlib.pyplot as plt\n",
    "from collections import namedtuple\n",
    "from itertools import count\n",
    "from PIL import Image\n",
    "import torch\n",
    "import torch.nn as nn               # Νeural networks (torch.nn)\n",
    "import torch.optim as optim         # Οptimization (torch.optim)\n",
    "import torch.nn.functional as F \n",
    "import torchvision.transforms as T    "
   ]
  },
  {
   "cell_type": "markdown",
   "id": "e706dc97",
   "metadata": {},
   "source": [
    "Set up Display"
   ]
  },
  {
   "cell_type": "code",
   "execution_count": 5,
   "id": "c1f2fc1e",
   "metadata": {},
   "outputs": [],
   "source": [
    "is_ipython = 'inline' in matplotlib.get_backend()\n",
    "if is_ipython: from IPython import display"
   ]
  },
  {
   "cell_type": "markdown",
   "id": "e2affab0",
   "metadata": {},
   "source": [
    "### Deep Q-network \n",
    "\n",
    "Q-values that correspond to each possible action that the agent can take from a given state. Our only available actions are to move right or to move left, therefore, the number outputs will be equal to two. \n",
    "\n",
    "Also, note that this network is pretty arbitrary and also very basic. It doesn't even contain any convolutional layers. I wanted to start out with something very straight forward at first, and then once we see how this network performs, we can start tuning the architecture and experimenting with different variations. "
   ]
  },
  {
   "cell_type": "code",
   "execution_count": 6,
   "id": "59ee041e",
   "metadata": {},
   "outputs": [],
   "source": [
    "class DQN(nn.Module):\n",
    "    def __init__(self, img_height, img_width):\n",
    "        super().__init__()\n",
    "\n",
    "        self.fc1 = nn.Linear(in_features=img_height*img_width*3, out_features=24)   \n",
    "        self.fc2 = nn.Linear(in_features=24, out_features=32)\n",
    "        self.out = nn.Linear(in_features=32, out_features=2)\n",
    "        \n",
    "    #This function will implement a forward pass to the networ\n",
    "    def forward(self, t):\n",
    "        t = t.flatten(start_dim=1)\n",
    "        t = F.relu(self.fc1(t))\n",
    "        t = F.relu(self.fc2(t))\n",
    "        t = self.out(t)\n",
    "        return t"
   ]
  },
  {
   "cell_type": "markdown",
   "id": "ee4d8e2c",
   "metadata": {},
   "source": [
    "### Experience \n",
    "\n",
    "Experiences from replay memory is what we'll use to train our network. To create experiences, we creating a class called Experience. This class will be used to create instances of Experience objects that will get stored in and sampled from replay memory later. "
   ]
  },
  {
   "cell_type": "code",
   "execution_count": 7,
   "id": "00e342c4",
   "metadata": {},
   "outputs": [],
   "source": [
    "Experience = namedtuple(\n",
    "    'Experience',\n",
    "    ('state', 'action', 'next_state', 'reward')\n",
    ")"
   ]
  },
  {
   "cell_type": "code",
   "execution_count": 8,
   "id": "b7976dc0",
   "metadata": {},
   "outputs": [
    {
     "data": {
      "text/plain": [
       "Experience(state=2, action=3, next_state=1, reward=4)"
      ]
     },
     "execution_count": 8,
     "metadata": {},
     "output_type": "execute_result"
    }
   ],
   "source": [
    "# quick example of an Experience object. \n",
    "e = Experience(2,3,1,4)   \n",
    "e"
   ]
  },
  {
   "cell_type": "markdown",
   "id": "7d7031d1",
   "metadata": {},
   "source": [
    "### Replay Memory \n",
    "Now that we have our Experience class, let's define our ReplayMemory class, which is where these experiences will be stored.\n",
    "\n",
    "Recall that replay memory will have some set capacity. This capacity is the only parameter that needs to be specified when creating a ReplayMemory object. "
   ]
  },
  {
   "cell_type": "code",
   "execution_count": 9,
   "id": "228aeaa9",
   "metadata": {},
   "outputs": [],
   "source": [
    "class ReplayMemory():\n",
    "    def __init__(self, capacity):\n",
    "        self.capacity = capacity\n",
    "        self.memory = []\n",
    "        self.push_count = 0\n",
    "        \n",
    "    def push(self, experience):\n",
    "        if len(self.memory) < self.capacity:\n",
    "            self.memory.append(experience)\n",
    "        else:\n",
    "            self.memory[self.push_count % self.capacity] = experience\n",
    "        self.push_count += 1 \n",
    "        \n",
    "    def sample(self, batch_size):\n",
    "        return random.sample(self.memory, batch_size)\n",
    "    \n",
    "    def can_provide_sample(self, batch_size):\n",
    "        return len(self.memory) >= batch_size"
   ]
  },
  {
   "cell_type": "markdown",
   "id": "3480fa14",
   "metadata": {},
   "source": [
    "##### push() : \n",
    "accepts experience, and when we want to push a new experience into replay memory, we have to check first that the amount of experiences we already have in memory is indeed less than the memory capacity. If it is, then we append the experience to memory.\n",
    "\n",
    "If, on the other hand, the amount of experiences we have in memory has reached capacity, then we begin to push new experiences onto the front of memory, overwriting the oldest experiences first.\n",
    "\n",
    "##### sample() : \n",
    "Aside from storing experiences in replay memory, we also want to be able to sample experiences from replay memory. Remember, these sampled experiences will be what we use to train our DQN. We define this sample() function, which returns a random sample of experiences. The number of randomly sampled experiences returned will be equal to the batch_size parameter passed to the function. "
   ]
  },
  {
   "cell_type": "markdown",
   "id": "06d358d8",
   "metadata": {},
   "source": [
    "###  Epsilon Greedy Strategy \n",
    "Exploration versus exploitation.This has to do with the way our agent selects actions. Our agent's actions will either fall in the category of exploration, where the agent is just exploring the environment by taking a random action from a given state, or the category of exploitation, where the agent exploits what it's learned about the environment to take the best action from a given state. \n",
    "\n",
    "To get a balance of exploration and exploitation, we use what we previously introduced as an epsilon greedy strategy. With this strategy, we define an exploration rate called epsilon that we initially set to 1 . This exploration rate is the probability that our agent will explore the environment rather than exploit it. With epsilon equal to 1 , it is 100 percent certain that the agent will start out by exploring the environment.\n",
    "\n",
    "As the agent learns more about the environment, though, epsilon will decay by some decay rate that we set so that the likelihood of exploration becomes less and less probable as the agent learns more and more about the environment.\n",
    "\n",
    "Our agent is going to be able to use the exploration rate to determine how it should select it's actions, either by exploring or exploiting the environment. "
   ]
  },
  {
   "cell_type": "code",
   "execution_count": 10,
   "id": "485d7c22",
   "metadata": {},
   "outputs": [],
   "source": [
    "class EpsilonGreedyStrategy():\n",
    "    def __init__(self, start, end, decay):\n",
    "        self.start = start\n",
    "        self.end = end\n",
    "        self.decay = decay\n",
    "    \n",
    "    def get_exploration_rate(self, current_step):\n",
    "        return self.end + (self.start - self.end) * \\\n",
    "        math.exp(-1. * current_step * self.decay)"
   ]
  },
  {
   "cell_type": "markdown",
   "id": "2d331a94",
   "metadata": {},
   "source": [
    "### Reinforcement Learning Agent \n",
    "\n",
    "So, later when we create an Agent object, we'll need to already have an instance of EpsilonGreedyStrategy class created so that we can use that strategy to create our agent. num_actions corresponds to how many possible actions can the agent take from a given state. In our cart and pole example, this number will always be two since the agent can always choose to only move left or right. \n",
    "\n",
    "Policy network is the name we give to our deep Q-network that we train to learn the optimal policy.\n",
    "\n",
    "Within this function, we first initialize rate to be equal to the exploration rate returned from the epsilon greedy strategy that was passed in when we created our agent, and we increment the agent's current_step by 1.\n",
    "\n",
    "We then check to see if the exploration rate is greater than a randomly generated number between 0 and 1. If it is, then we explore the environment by randomly selecting an action, either 0 or 1, corresponding to left or right moves.\n",
    "\n",
    "If the exploration rate is not greater than the random number, then we exploit the environment by selecting the action that corresponds to the highest Q-value output from our policy network for the given state.\n",
    "\n",
    "We're specifying with torch.no_grad() before we pass data to our policy_net to turn off gradient tracking since we're currently using the model for inference and not training.\n",
    "\n",
    "During training PyTorch keeps track of all the forward pass calculations that happen within the network. It needs to do this so that it can know how to apply backpropagation later. Since we're only using the model for inference at the moment, we're telling PyTorch not to keep track of any forward pass calculations. "
   ]
  },
  {
   "cell_type": "code",
   "execution_count": 11,
   "id": "9852bad6",
   "metadata": {},
   "outputs": [],
   "source": [
    "# class Agent():\n",
    "#     def __init__(self, strategy, num_actions, device):\n",
    "#         self.current_step = 0\n",
    "#         self.strategy = strategy\n",
    "#         self.num_actions = num_actions\n",
    "#         self.device = device\n",
    "    \n",
    "#     def select_action(self, state, policy_net):\n",
    "#         rate = self.strategy.get_exploration_rate(self.current_step)\n",
    "#         self.current_step += 1\n",
    "\n",
    "#         if rate > random.random():\n",
    "#             return random.randrange(self.num_actions) # explore      \n",
    "#         else:\n",
    "#             with torch.no_grad():\n",
    "#                 return policy_net(state).argmax(dim=1).to(self.device) # exploit\n",
    "\n",
    "class Agent():\n",
    "    def __init__(self, strategy, num_actions,device):\n",
    "        self.current_step = 0\n",
    "        self.strategy = strategy\n",
    "        self.num_actions = num_actions\n",
    "        self.device= device\n",
    "    \n",
    "    def select_action(self, state, policy_net):\n",
    "        rate = self.strategy.get_exploration_rate(self.current_step)\n",
    "        self.current_step += 1\n",
    "\n",
    "        if rate > random.random():\n",
    "            action = random.randrange(self.num_actions)\n",
    "            return torch.tensor([action]).to(self.device) # explore      \n",
    "        else:\n",
    "            with torch.no_grad():\n",
    "                return policy_net(state).argmax(dim=1).to(self.device) # exploit"
   ]
  },
  {
   "cell_type": "markdown",
   "id": "62c14094",
   "metadata": {},
   "source": [
    "## Environment Manager \n",
    "This class will manage our cart and pole environment. It will wrap several of gym's environment capabilities, and it will also give us some added functionality, like image preprocessing, for the environment images that will be given to our network as input. \n",
    "\n",
    "###### __init__ :\n",
    "Within the class constructor, we first initialize the class's device attribute with the device that was passed in, and we initialize the env attribute to be gym's cart and pole environment. Calling unwrapped gives us access to behind-the-scenes dynamics of the environment that we wouldn't have access to otherwise.\n",
    "\n",
    "Since we must reset the environment to get an initial observation of it, we do this right after initializing env. We then set the current_screen attribute equal to None. current_screen will track the current screen of the environment at any given time, and when it's set to None, that indicates that we're at the start of an episode and have not yet rendered the screen of the initial observation.\n",
    "\n",
    "We then set the done attribute equal to False. done will track whether or not any taken action has ended an episode. \n",
    "\n",
    "###### Wrapped functions : reset(), close(), and render()\n",
    "\n",
    "We now have a few wrapper functions that simply just wrap a function with the same name used by gym. Specifically, we have reset(), close(), and render(), which reset, close, and render the environment using gym's reset(), close(), and render() functions. \n",
    "\n",
    "We're wrapping these functions in this way so that later, in our main program, we'll only have to deal with a CartPoleEnvManager, and not both this manager and an environment.\n",
    "\n",
    "Instead, we're encapsulating the environment functionality within our environment manager, so that our manager can completely manage the environment using these functions, as well as new functions that an original gym environment wouldn't have access to. This gives our main program a clean and consistent interface for interacting with the environment. \n",
    "\n",
    "###### get_state() :\n",
    "We said that states would be represented as the difference between the last two screens. Well, when we're at the start of a new episode, there is no last screen to compare to the current screen. So, we're going to represent our starting state with a fully black screen. The fact we're doing this will make more sense once we see some visual example of states in a few minutes.\n",
    "\n",
    "When we're in the next state that occurs after an agent has taken an action that ended the episode, we'll also represent this state with a fully black screen as well.\n",
    "\n",
    "We do this by first calling get_processed_screen(), which returns the processed screen from the environment and assigns this result to the current screen. We then create a fully black screen of the same shape as the current_screen using torch.zeros_like(). We'll explore the get_processed_screen() function more in a moment.\n",
    "\n",
    "If we're not just starting an episode, and we're not ending it either, then we're somewhere in the middle of an episode.\n",
    "\n",
    "In this case we'll take the difference between the current screen and the last screen and return this result.\n",
    "\n",
    "In the code above, s1 stands for screen1 and is set to the current_screen. s2 stands for screen2 and is set to the result of a new call to get_processed_screen(). We then update our current_screen to the value of s2. So now, s2 is our current_screen, and s1 is our previous screen, so we return the difference of these two screens to represent a single state. \n",
    "\n",
    "###### transform_screen_data() :\n",
    "This function accepts a screen. \n",
    "We first pass this screen to the numpy ascontiguousarray() function, which returns a contiguous array of the same shape and content as screen, meaning that all the values of this array will be stored sequentially next to each other in memory.\n",
    "\n",
    "We're also converting the individual pixel values into type float32 and rescaling all the values by dividing them each by 255. This is a common rescaling process that occurs during image processing for neural network input.\n",
    "\n",
    "We then convert this array to a PyTorch tensor.\n",
    "\n",
    "We then use torchvision's Compose class to chain together several image transformations. We'll call this compose resize. So, when a tensor is passed to resize, it will first be converted to a PIL image, then it will be resized to a 40 x 90 image. The PIL image is then transformed to a tensor.\n",
    "\n",
    "So, we pass our screen from above to resize and then add an extra batch dimension to the tensor by calling unsqueeze(). This result is then what is returned by the transform_screen_data() function. "
   ]
  },
  {
   "cell_type": "code",
   "execution_count": 12,
   "id": "8ed17b73",
   "metadata": {},
   "outputs": [],
   "source": [
    "class CartPoleEnvManager():\n",
    "    def __init__(self, device):\n",
    "        \n",
    "        self.device = device\n",
    "        \n",
    "        #we initialize the env attribute to be gym's cart and pole environment. \n",
    "        #Calling unwrapped gives us access to behind-the-scenes dynamics of the environment\n",
    "        #that we wouldn't have access to otherwise. \n",
    "        self.env = gym.make('CartPole-v0').unwrapped\n",
    "        \n",
    "        #Since we must reset the environment to get an initial observation of it, \n",
    "        #we do this right after initializing env.\n",
    "        self.env.reset()\n",
    "        \n",
    "        #current_screen will track the current screen of the environment at any given time, and \n",
    "        #when it's set to None, that indicates that we're at the start of an episode and have not \n",
    "        #yet rendered the screen of the initial observation. \n",
    "        self.current_screen = None\n",
    "        \n",
    "        #We then set the done attribute equal to False. done will track whether or not \n",
    "        #any taken action has ended an episode. \n",
    "        self.done = False\n",
    "    \n",
    "    #Wrapped functions\n",
    "    \n",
    "    # we call reset() on the gym environment when we want the environment to be reset to a starting state. \n",
    "    # reset() returns an initial observation from the environment. \n",
    "    def reset(self):\n",
    "        self.env.reset()\n",
    "        self.current_screen = None\n",
    "    # The only one of our wrapper functions that does anything outside of calling gym's function with \n",
    "    # the same name is reset(). You can see that we're also setting the current_screen to None here. \n",
    "    # When we reset the environment, we're typically going to be at the end of an episode, and therefore, \n",
    "    # we want to set the current_screen back to None since this indicates that we're at the start of an episode \n",
    "    # and have not yet rendered the screen of the initial observation. \n",
    "    \n",
    "    # We call close() to close the environment when we're finished with it\n",
    "    def close(self):\n",
    "        self.env.close()\n",
    "    \n",
    "    # we call render() on the environment to render the current state to the screen. \n",
    "    # We can also get a numpy array version of the rendered screen from this function as well. \n",
    "    def render(self, mode='human'):\n",
    "        return self.env.render(mode)\n",
    "    \n",
    "    \n",
    "    # Number of actions available to agent \n",
    "    # returns the number of actions available to an agent in the environment. In our cart and pole \n",
    "    # environment, at any given time, an agent will only have two actions available: move left or move right. \n",
    "    def num_actions_available(self):\n",
    "        return self.env.action_space.n\n",
    "    \n",
    "    # Taking an action in the environment \n",
    "    # take_action() is a function that requires an action to be passed in. \n",
    "    # Using this action, we call step() on the environment, which will execute the given action taken \n",
    "    # by the agent in the environment. \n",
    "    # we only care about the reward and whether or not the episode ended from taking the given action, \n",
    "    # so we set the reward variable accordingly, and also update the class's done attribute with the boolean \n",
    "    # value of whether or not the episode ended by taking the given step. \n",
    "    def take_action(self, action):        \n",
    "        _, reward, self.done, _ = self.env.step(action.item())\n",
    "        return torch.tensor([reward], device=self.device)\n",
    "    \n",
    "    # Starting an episode \n",
    "    # just_starting() that returns True when the current_screen is None and returns False otherwise.\n",
    "    # Remember, current_screen is set to None in the class constructor and also gets set to None when the \n",
    "    # environment is reset after ending an episode. So, if current_screen is None, that means we are at the \n",
    "    # starting state of an episode and haven't yet rendered an initial observation from the environment. \n",
    "    def just_starting(self):\n",
    "        return self.current_screen is None\n",
    "    \n",
    "    # Getting the state of the environment \n",
    "    # The point of this function is to return the current state of the environment in the form of a \n",
    "    # processed image of the screen. Remember, a deep Q-network takes states of the environment as input, \n",
    "    # and we previously mentioned that for our environment, states would be represented using screenshot-like \n",
    "    # images. \n",
    "    \n",
    "    # we will represent a single state in the environment as the difference between the current screen and the \n",
    "    # previous screen. This will allow the agent to take the velocity of the pole into account from one single \n",
    "    # image. So, a single state will be represented as a processed image of the difference between two consecutive \n",
    "    # screens.\n",
    "    def get_state(self):\n",
    "        # We check first to see if we are just starting or if we're done with the episode. \n",
    "        # Remember, if we're just starting, then the initial screen has not yet been rendered \n",
    "        # from the initial observation in the environment. If done == True, then that means the \n",
    "        # last action taken by the agent ended the episode. \n",
    "        if self.just_starting() or self.done:\n",
    "            self.current_screen = self.get_processed_screen()\n",
    "            black_screen = torch.zeros_like(self.current_screen)\n",
    "            return black_screen\n",
    "        #If we're not just starting an episode, and we're not ending \n",
    "        #it either, then we're somewhere in the middle of an episode. \n",
    "        else:\n",
    "            s1 = self.current_screen\n",
    "            s2 = self.get_processed_screen()\n",
    "            self.current_screen = s2\n",
    "            return s2 - s1\n",
    "    \n",
    "    # Get processed screen dimensions \n",
    "    # These functions return the height and width of a processed screen by first getting a processed \n",
    "    # screen from the get_processed_screen() function\n",
    "    def get_screen_height(self):\n",
    "        screen = self.get_processed_screen()\n",
    "        return screen.shape[2]\n",
    "\n",
    "    def get_screen_width(self):\n",
    "        screen = self.get_processed_screen()\n",
    "        return screen.shape[3]\n",
    "    \n",
    "    # Processing the screen image\n",
    "    # This function first renders the environment as an RGB array using the render() function and \n",
    "    # then transposes this array into the order of channels by height by width, which is what our PyTorch DQN \n",
    "    # will expect. \n",
    "    def get_processed_screen(self):\n",
    "        screen = self.render('rgb_array').transpose((2, 0, 1)) # PyTorch expects CHW\n",
    "        screen = self.crop_screen(screen)\n",
    "        return self.transform_screen_data(screen)\n",
    "    \n",
    "    # Crop screen image \n",
    "    # The crop_screen() function accepts a screen and will return a cropped version of it. \n",
    "    # We first get the height of the screen that was passed in, and then we strip off the top and bottom of the \n",
    "    # screen. \n",
    "    # We set top equal to the value that corresponds to 40% of the screen_height. \n",
    "    # Similarly, we set bottom equal to the value that corresponds to 80% of the screen_height. \n",
    "    def crop_screen(self, screen):\n",
    "        screen_height = screen.shape[1]\n",
    "\n",
    "        # Strip off top and bottom\n",
    "        top = int(screen_height * 0.4)\n",
    "        bottom = int(screen_height * 0.8)\n",
    "        screen = screen[:, top:bottom, :]\n",
    "        return screen\n",
    "    \n",
    "    #  Convert and rescale screen image data \n",
    "    def transform_screen_data(self, screen):       \n",
    "        # Convert to float, rescale, convert to tensor\n",
    "        screen = np.ascontiguousarray(screen, dtype=np.float32) / 255\n",
    "        screen = torch.from_numpy(screen)\n",
    "\n",
    "        # Use torchvision package to compose image transforms\n",
    "        resize = T.Compose([\n",
    "            T.ToPILImage()\n",
    "            ,T.Resize((40,90))\n",
    "            ,T.ToTensor()\n",
    "        ])\n",
    "\n",
    "        return resize(screen).unsqueeze(0).to(self.device) # add a batch dimension (BCHW)"
   ]
  },
  {
   "cell_type": "markdown",
   "id": "d3304a83",
   "metadata": {},
   "source": [
    " #### Example screens\n",
    " \n",
    " ######  Non-processed screen \n",
    "This first screen is an example of what a non-processed screen looks like from the environment. We're getting this screen just by setting up an instance of CartPoleEnvManager, calling reset() to get an initial observation, and then rendering the screen. "
   ]
  },
  {
   "cell_type": "code",
   "execution_count": 13,
   "id": "da54efad",
   "metadata": {},
   "outputs": [
    {
     "data": {
      "image/png": "[encoded data removed]",
      "text/plain": [
       "<Figure size 432x288 with 1 Axes>"
      ]
     },
     "metadata": {
      "needs_background": "light"
     },
     "output_type": "display_data"
    }
   ],
   "source": [
    "device = torch.device(\"cuda\" if torch.cuda.is_available() else \"cpu\")\n",
    "em = CartPoleEnvManager(device)\n",
    "em.reset()\n",
    "screen = em.render('rgb_array')\n",
    "\n",
    "plt.figure()\n",
    "plt.imshow(screen)\n",
    "plt.title('Non-processed screen example')\n",
    "plt.show()"
   ]
  },
  {
   "cell_type": "markdown",
   "id": "633b6cc6",
   "metadata": {},
   "source": [
    " ######  Processed screen \n",
    "After we do all the processing to this image simply from calling get_processed_screen(), we now get this processed image. There is actually some further processing we could do, like stripping some of the empty space from the right and left side"
   ]
  },
  {
   "cell_type": "code",
   "execution_count": 14,
   "id": "9049fd42",
   "metadata": {},
   "outputs": [
    {
     "data": {
      "image/png": "[encoded data removed]",
      "text/plain": [
       "<Figure size 432x288 with 1 Axes>"
      ]
     },
     "metadata": {
      "needs_background": "light"
     },
     "output_type": "display_data"
    }
   ],
   "source": [
    "screen = em.get_processed_screen()\n",
    "\n",
    "plt.figure()\n",
    "plt.imshow(screen.squeeze(0).permute(1, 2, 0).cpu(), interpolation='none')\n",
    "plt.title('Processed screen example')\n",
    "plt.show()"
   ]
  },
  {
   "cell_type": "markdown",
   "id": "c38e5863",
   "metadata": {},
   "source": [
    "###### Starting state\n",
    "Now, remember how a state from the environment is created from the difference between two processed images? And also how the starting state will always be a fully black screen based on our earlier discussion? Well, here we can see that example by calling get_state() on our environment manager. "
   ]
  },
  {
   "cell_type": "code",
   "execution_count": 15,
   "id": "25e3b294",
   "metadata": {},
   "outputs": [
    {
     "data": {
      "image/png": "[encoded data removed]",
      "text/plain": [
       "<Figure size 432x288 with 1 Axes>"
      ]
     },
     "metadata": {
      "needs_background": "light"
     },
     "output_type": "display_data"
    }
   ],
   "source": [
    "screen = em.get_state()\n",
    "\n",
    "plt.figure()\n",
    "plt.imshow(screen.squeeze(0).permute(1, 2, 0).cpu(), interpolation='none')\n",
    "plt.title('Starting state example')\n",
    "plt.show()"
   ]
  },
  {
   "cell_type": "markdown",
   "id": "03dbb259",
   "metadata": {},
   "source": [
    " ###### Non-starting state \n",
    "If we want to see what a state looks that is not a starting state, we can take some actions in the environment and call get_state() again to get this result.\n",
    "\n",
    "Since we're taking the difference between the current screen and the previous screen, most pixel values will become zero. The only ones that are anything but zero are just the kind of highlight that we're seeing here which gives us an idea of where are cart and pole were in the previous screen, and where they have moved to now. "
   ]
  },
  {
   "cell_type": "code",
   "execution_count": 16,
   "id": "f49482a6",
   "metadata": {},
   "outputs": [
    {
     "name": "stderr",
     "output_type": "stream",
     "text": [
      "Clipping input data to the valid range for imshow with RGB data ([0..1] for floats or [0..255] for integers).\n"
     ]
    },
    {
     "data": {
      "image/png": "[encoded data removed]",
      "text/plain": [
       "<Figure size 432x288 with 1 Axes>"
      ]
     },
     "metadata": {
      "needs_background": "light"
     },
     "output_type": "display_data"
    }
   ],
   "source": [
    "for i in range(5):\n",
    "    em.take_action(torch.tensor([1]))\n",
    "screen = em.get_state()\n",
    "\n",
    "plt.figure()\n",
    "plt.imshow(screen.squeeze(0).permute(1, 2, 0).cpu(), interpolation='none')\n",
    "plt.title('Non starting state example')\n",
    "plt.show()"
   ]
  },
  {
   "cell_type": "markdown",
   "id": "61d55818",
   "metadata": {},
   "source": [
    "###### Ending state \n",
    "Lastly, if we want to see the state of the environment after an episode has ended, we specify done = True and call em.get_state() again, and we can see the fully black screen that we'd expect.\n",
    "\n",
    "So, these states are exactly what will be passed to our DQN as input during training. "
   ]
  },
  {
   "cell_type": "code",
   "execution_count": 17,
   "id": "1e964a58",
   "metadata": {},
   "outputs": [
    {
     "data": {
      "image/png": "[encoded data removed]",
      "text/plain": [
       "<Figure size 432x288 with 1 Axes>"
      ]
     },
     "metadata": {
      "needs_background": "light"
     },
     "output_type": "display_data"
    }
   ],
   "source": [
    "em.done = True\n",
    "screen = em.get_state()\n",
    "\n",
    "plt.figure()\n",
    "plt.imshow(screen.squeeze(0).permute(1, 2, 0).cpu(), interpolation='none')\n",
    "plt.title('Ending state example')\n",
    "plt.show()\n",
    "em.close()"
   ]
  },
  {
   "cell_type": "markdown",
   "id": "6ee6cac7",
   "metadata": {},
   "source": [
    "###### Utility functions \n",
    "Now, we're going to move on to a couple of quick utility functions we'll have available to us during training so that we can plot our performance on a chart. "
   ]
  },
  {
   "cell_type": "code",
   "execution_count": 18,
   "id": "70d38934",
   "metadata": {},
   "outputs": [],
   "source": [
    "def plot(values, moving_avg_period):\n",
    "    plt.figure(2)\n",
    "    plt.clf()        \n",
    "    plt.title('Training...')\n",
    "    plt.xlabel('Episode')\n",
    "    plt.ylabel('Duration')\n",
    "    plt.plot(values)\n",
    "\n",
    "    moving_avg = get_moving_average(moving_avg_period, values)\n",
    "    plt.plot(moving_avg)    \n",
    "    plt.pause(0.001)\n",
    "    print(\"Episode\", len(values), \"\\n\", \\\n",
    "        moving_avg_period, \"episode moving avg:\", moving_avg[-1])\n",
    "    if is_ipython: display.clear_output(wait=True)\n",
    "\n",
    "def get_moving_average(period, values):\n",
    "    values = torch.tensor(values, dtype=torch.float)\n",
    "    if len(values) >= period:\n",
    "        moving_avg = values.unfold(dimension=0, size=period, step=1) \\\n",
    "            .mean(dim=1).flatten(start_dim=0)\n",
    "        moving_avg = torch.cat((torch.zeros(period-1), moving_avg))\n",
    "        return moving_avg.numpy()\n",
    "    else:\n",
    "        moving_avg = torch.zeros(len(values))\n",
    "        return moving_avg.numpy()"
   ]
  },
  {
   "cell_type": "markdown",
   "id": "d1de73a1",
   "metadata": {},
   "source": [
    "###### Example plot \n",
    "\n",
    "To show an example of this plot() function, we'll pass in a numpy array that contains 300 random values between 0 and 1, and we'll specify 100 as our moving average period. \n",
    "\n",
    "The actual values are plotted in blue, and the orange line is the 100-period moving average across these values.\n",
    "\n",
    "We can see that the 100-period moving average is 0 for the first 99 values, and then we get the first calculated moving average at the 100th value. This represents the average of the first 100 values in the array. If we skip over to the moving average at value 200, then the orange line at this point represents the average of the second 100 values between value 100 to 200.\n",
    "\n",
    "When we train our network, we'll be using this plot to show our performance over time. "
   ]
  },
  {
   "cell_type": "code",
   "execution_count": 19,
   "id": "c5a6ba0c",
   "metadata": {},
   "outputs": [
    {
     "data": {
      "image/png": "[encoded data removed]",
      "text/plain": [
       "<Figure size 432x288 with 1 Axes>"
      ]
     },
     "metadata": {
      "needs_background": "light"
     },
     "output_type": "display_data"
    },
    {
     "name": "stdout",
     "output_type": "stream",
     "text": [
      "Episode 300 \n",
      " 100 episode moving avg: 0.46676195\n"
     ]
    }
   ],
   "source": [
    "plot(np.random.rand(300), 100)"
   ]
  },
  {
   "cell_type": "markdown",
   "id": "f1c2814d",
   "metadata": {},
   "source": [
    "##  Main Program\n",
    "Within our main program, we're first initializing all of our hyperparameters. \n",
    "We're first setting the batch_size for our network to 256. gamma, which is the discount factor used in the Bellman equation, is being set to 0.999.\n",
    "\n",
    "We then have these three eps variables: eps_start, eps_end, and eps_decay.\n",
    "\n",
    "eps_start is the starting value of epsilon. Remember, epsilon is the name we've given to the exploration rate. eps_end is the ending value of epsilon, and eps_decay is the decay rate we'll use to decay epsilon over time.\n",
    "\n",
    "we set target_update to 10, and this is how frequently, in terms of episodes, we'll update the target network weights with the policy network weights. So, with target_update set to 10, we're choosing to update the target network every 10 episodes.\n",
    "\n",
    "we set the memory_size, which is the capacity of the replay memory, to 100,000. We then set the learning rate lr that is used during training of the policy network to 0.001, and the number of episodes we want to play num_episodes to 1000."
   ]
  },
  {
   "cell_type": "code",
   "execution_count": 20,
   "id": "8ead2fd3",
   "metadata": {},
   "outputs": [],
   "source": [
    "batch_size = 256\n",
    "gamma = 0.999\n",
    "eps_start = 1\n",
    "eps_end = 0.01\n",
    "eps_decay = 0.001\n",
    "target_update = 10\n",
    "memory_size = 100000\n",
    "lr = 0.001\n",
    "num_episodes = 1000\n",
    "\n",
    "# batch_size=2048 \n",
    "# gamma=0.999 \n",
    "# eps_start=1.0 \n",
    "# eps_end=0.01 \n",
    "# eps_decay=0.0007 \n",
    "# target_update=10 \n",
    "# memory_size=500000 \n",
    "# lr=0.0005"
   ]
  },
  {
   "cell_type": "code",
   "execution_count": 21,
   "id": "0d9136cc",
   "metadata": {},
   "outputs": [],
   "source": [
    "device = torch.device(\"cuda\" if torch.cuda.is_available() else \"cpu\")\n",
    "\n",
    "#we set up our environment manager em using the CartPoleEnvManager class, and we pass in the required device. \n",
    "#We then set our strategy to be an instance of the EpsilonGreedyStrategy class, and we pass in the required \n",
    "#start, end, and decay values for epsilon.\n",
    "em = CartPoleEnvManager(device)\n",
    "strategy = EpsilonGreedyStrategy(eps_start, eps_end, eps_decay)\n",
    "# We then define an agent using our Agent class and pass in the required strategy, number of actions available, \n",
    "# and device. We then initialize memory to be an instance of ReplayMemory and pass in the capacity using \n",
    "# memory_size.\n",
    "agent = Agent(strategy, em.num_actions_available(), device)\n",
    "memory = ReplayMemory(memory_size)\n",
    "\n",
    "# Now, we define both our policy network and target network by creating two instances of our DQN class and\n",
    "# passing in the height and width of the screen to set up the appropriate input shape of the networks. We put\n",
    "# these networks on our defined device using PyTorch's to() function.\n",
    "policy_net = DQN(em.get_screen_height(), em.get_screen_width()).to(device)\n",
    "target_net = DQN(em.get_screen_height(), em.get_screen_width()).to(device)\n",
    "\n",
    "#We then set the weights and biases in the target_net to be the same as those in the policy_net using PyTorch's\n",
    "#state_dict() and load_state_dict() functions. We also put the target_net into eval mode, which tells PyTorch\n",
    "#that this network is not in training mode. In other words, this network will only be used for inference.\n",
    "target_net.load_state_dict(policy_net.state_dict())\n",
    "target_net.eval()\n",
    "\n",
    "# we set optimizer equal to the Adam optimizer, which accepts our policy_net.parameters() as those for \n",
    "# which we'll be optimizing, and our defined learning rate lr.\n",
    "optimizer = optim.Adam(params=policy_net.parameters(), lr=lr)"
   ]
  },
  {
   "cell_type": "markdown",
   "id": "e499f81e",
   "metadata": {},
   "source": [
    "#### Tensor Processing"
   ]
  },
  {
   "cell_type": "code",
   "execution_count": 22,
   "id": "5be3b469",
   "metadata": {},
   "outputs": [
    {
     "data": {
      "text/plain": [
       "[Experience(state=1, action=1, next_state=1, reward=1),\n",
       " Experience(state=2, action=2, next_state=2, reward=2),\n",
       " Experience(state=3, action=3, next_state=3, reward=3)]"
      ]
     },
     "execution_count": 22,
     "metadata": {},
     "output_type": "execute_result"
    }
   ],
   "source": [
    "# This is the function that we called to extract all the states, actions, rewards, and next_states \n",
    "# into their own tensors from a given batch of experiences.\n",
    "# extract_tensors() accepts a batch of Experiences and first transposes it into an Experience of batches.\n",
    "def extract_tensors(experiences):\n",
    "    # Convert batch of Experiences to Experience of batches\n",
    "    batch = Experience(*zip(*experiences))\n",
    "\n",
    "    t1 = torch.cat(batch.state)\n",
    "    t2 = torch.cat(batch.action)\n",
    "    t3 = torch.cat(batch.reward)\n",
    "    t4 = torch.cat(batch.next_state)\n",
    "    \n",
    "    # return a tuple that contains the states tensor, actions tensor, rewards tensor, and next_states tensor.\n",
    "    return (t1,t2,t3,t4)\n",
    "\n",
    "e1 = Experience(1,1,1,1)\n",
    "e2 = Experience(2,2,2,2)\n",
    "e3 = Experience(3,3,3,3)\n",
    "\n",
    "# We can see the first Experience in the list has a state, action, next_state, and reward all equal to 1. \n",
    "# The second Experience has 2 as the value of all of these attributes, and the third Experience has 3 as the \n",
    "# value for all attributes.\n",
    "experiences = [e1,e2,e3]\n",
    "experiences"
   ]
  },
  {
   "cell_type": "code",
   "execution_count": 23,
   "id": "fc5b5f18",
   "metadata": {},
   "outputs": [
    {
     "data": {
      "text/plain": [
       "Experience(state=(1, 2, 3), action=(1, 2, 3), next_state=(1, 2, 3), reward=(1, 2, 3))"
      ]
     },
     "execution_count": 23,
     "metadata": {},
     "output_type": "execute_result"
    }
   ],
   "source": [
    "# We can see that we now do indeed have this Experience object where the state attribute is set to \n",
    "# the tuple containing all the states from e1, e2, and e3 in the original experiences list. Similarly, \n",
    "# the action, next_state, and reward attributes contain tuples containing all the corresponding values \n",
    "# from the experiences list.\n",
    "batch = Experience(*zip(*experiences))\n",
    "batch"
   ]
  },
  {
   "cell_type": "markdown",
   "id": "11d328d1",
   "metadata": {},
   "source": [
    "#### Calculating Q-Values\n",
    " This is the class that we used to calculate the q-values for the current states using the policy_net, and the next states using the target_net.\n",
    "\n",
    "###### get_next() :\n",
    "This function accepts a target_net and next_states. Recall that for each next state, we want to obtain the maximum q-value predicted by the target_net among all possible next actions.\n",
    "\n",
    "To do that, we first look in our next_states tensor and find the locations of all the final states. If an episode is ended by a given action, then we're calling the next_state that occurs after that action was taken the final state.\n",
    "\n",
    "Remember, last time we discussed that final states are represented with an all black screen. Therefore, all the values within the tensor that represent that final state would be zero.\n",
    "\n",
    "We want to know where the final states are, if we even have any at all in a given batch, because we're not going to want to pass these final states to our target_net to get a predicted q-value. We know that the q-value for final states is zero because the agent is unable to receive any reward once an episode has ended.\n",
    "\n",
    "So, we're finding the locations of these final states so that we know not to pass them to the target_net for q-value predictions when we pass our non-final next states.\n",
    "\n",
    "To find the locations of these potential final states, we flatten the next_states tensor along dimension 1, and we check each individual next state tensor to find its maximum value. If its maximum value is equal to 0, then we know that this particular next state is a final state, and we represent that as a True within this final_state_locations tensor. next_states that are not final are represented by a False value in the tensor.\n",
    "\n",
    "We then create a second tensor non_final_state_locations, which is just an exact opposite of final_state_locations. It contains True for each location in the next_states tensor that corresponds to a non-final state and a False for each location that corresponds to a final state.\n",
    "\n",
    "Now that we know the locations of the non-final states, we can now get the values of these states by indexing into the next_states tensor and getting all of the corresponding non_final_states.\n",
    "\n",
    "Next, we find out the batch_size by checking to see how many next states are in the next_states tensor. Using this, we create a new tensor of zeros that has a length equal to the batch size. We also send this tensor to the device defined at the start of this class.\n",
    "\n",
    "We then index into this tensor of zeros with the non_final_state_locations, and we set the corresponding values for all of these locations equal to the maximum predicted q-values from the target_net across each action.\n",
    "\n",
    "This leaves us with a tensor that contains zeros as the q-values associated with any final state and contains the target_net's maximum predicted q-value across all actions for each non-final state. This result is what is finally returned by get_next().\n",
    "\n",
    "###### The whole point of all this code in this function was to find out if we have any final states in our next_states tensor. If we do, then we need to find out where they are so that we don't pass them to the target_net. We don't want to pass them to the target_net for a predicted q-value since we know that their associated q-values will be zero."
   ]
  },
  {
   "cell_type": "code",
   "execution_count": 24,
   "id": "ada307d1",
   "metadata": {},
   "outputs": [],
   "source": [
    "class QValues():\n",
    "    device = torch.device(\"cuda\" if torch.cuda.is_available() else \"cpu\")\n",
    "    \n",
    "    # his function accepts a policy_net, states, and actions. When we call this function in our main \n",
    "    # program, recall that these states and actions are the state-action pairs that were sampled from \n",
    "    # replay memory. So, the states and actions correspond with each other.\n",
    "    @staticmethod\n",
    "    def get_current(policy_net, states, actions):\n",
    "        \n",
    "        # The function just returns the predicted q-values from the policy_net for the specific \n",
    "        # state-action pairs that were passed in.\n",
    "        return policy_net(states).gather(dim=1, index=actions.unsqueeze(-1))\n",
    "    \n",
    "    @staticmethod        \n",
    "    def get_next(target_net, next_states):                \n",
    "        final_state_locations = next_states.flatten(start_dim=1) \\\n",
    "            .max(dim=1)[0].eq(0).type(torch.bool)\n",
    "        non_final_state_locations = (final_state_locations == False)\n",
    "        non_final_states = next_states[non_final_state_locations]\n",
    "        batch_size = next_states.shape[0]\n",
    "        values = torch.zeros(batch_size).to(QValues.device)\n",
    "        values[non_final_state_locations] = target_net(non_final_states).max(dim=1)[0].detach()\n",
    "        return values"
   ]
  },
  {
   "cell_type": "markdown",
   "id": "72405f9d",
   "metadata": {},
   "source": [
    "### Training Loop\n",
    "1. Initialize replay memory capacity.\n",
    "2. Initialize the policy network with random weights.\n",
    "3. Clone the policy network, and call it the target network.\n",
    "4. For each episode:\n",
    "   1. Initialize the starting state.\n",
    "   2. For each time step:\n",
    "       1. Select an action.\n",
    "            -Via exploration or exploitation\n",
    "       2. Execute selected action in an emulator.\n",
    "       3. Observe reward and next state.\n",
    "       4. Store experience in replay memory.\n",
    "       5. Sample random batch from replay memory.\n",
    "       6. Preprocess states from batch.\n",
    "       7. Pass batch of preprocessed states to policy network.\n",
    "       8. Calculate loss between output Q-values and target Q-values.\n",
    "         - Requires a pass to the target network for the next state\n",
    "       9. Gradient descent updates weights in the policy network to minimize loss.\n",
    "          - After  time steps, weights in the target network are updated to the weights in the policy network."
   ]
  },
  {
   "cell_type": "code",
   "execution_count": 25,
   "id": "9bd52297",
   "metadata": {},
   "outputs": [
    {
     "data": {
      "image/png": "[encoded data removed]",
      "text/plain": [
       "<Figure size 432x288 with 1 Axes>"
      ]
     },
     "metadata": {
      "needs_background": "light"
     },
     "output_type": "display_data"
    },
    {
     "name": "stdout",
     "output_type": "stream",
     "text": [
      "Episode 1000 \n",
      " 100 episode moving avg: 81.34\n"
     ]
    }
   ],
   "source": [
    "# We're now all set up to start training.\n",
    "# We're going to be storing our episode_durations during training in order to plot them using the plot() \n",
    "# function we developed last time, so we create an empty list to store them in.\n",
    "episode_durations = []\n",
    "\n",
    "# The first for loop is going to iterate over each episode.\n",
    "for episode in range(num_episodes):\n",
    "    \n",
    "    # For each episode, we first reset the environment, then get the initial state.\n",
    "    em.reset()\n",
    "    state = em.get_state()\n",
    "    \n",
    "    # we'll step into the nested for loop that will iterate over each time step within each episode.\n",
    "    for timestep in count():\n",
    "        \n",
    "        # For each time step, our agent selects an action based on the current state. Recall, we also need \n",
    "        # to pass in the required policy_net since the agent will use this network to select it's action \n",
    "        # if it exploits the environment rather than explores it.The agent then takes the chosen action \n",
    "        # and receives the associated reward, and we get the next_state.\n",
    "        action = agent.select_action(state, policy_net)\n",
    "        reward = em.take_action(action)\n",
    "        next_state = em.get_state()\n",
    "        \n",
    "        # We now can create an Experience using the state, action, next_state, and reward and push \n",
    "        # this onto replay memory. After which, we transition to the next state by setting our current state \n",
    "        # to next_state.\n",
    "        memory.push(Experience(state, action, next_state, reward))\n",
    "        state = next_state\n",
    "        \n",
    "        # Now that our agent has had an experience and stored it in replay memory, we'll check to see \n",
    "        # if we can get a sample from replay memory to train our policy_net.\n",
    "        # we can get a sample equal to the batch_size from replay memory as long as \n",
    "        # the current size of memory is at least the batch_size.\n",
    "        if memory.can_provide_sample(batch_size):\n",
    "            # If we can get a sample from memory, then we get a sample equal to batch_size and \n",
    "            # assign this sample to the variable experiences.\n",
    "            experiences = memory.sample(batch_size)\n",
    "            states, actions, rewards, next_states = extract_tensors(experiences)\n",
    "\n",
    "            current_q_values = QValues.get_current(policy_net, states, actions)\n",
    "            next_q_values = QValues.get_next(target_net, next_states)\n",
    "            target_q_values = (next_q_values * gamma) + rewards\n",
    "\n",
    "            # We now can calculate the loss between the current_q_values and the target_q_values using \n",
    "            # mean squared error mse as our loss function, and then we zero out the gradients using \n",
    "            # optimizer.zero_grad().\n",
    "            # This function sets the gradients of all the weights and biases in the policy_net to zero. \n",
    "            # Since PyTorch accumulates the gradients when it does backprop, we need to call zero_grad() \n",
    "            # before backprop occurs. Otherwise, if we didn't zero out the gradients each time, then \n",
    "            # we'd be accumulating gradients across all backprop runs.\n",
    "            loss = F.mse_loss(current_q_values, target_q_values.unsqueeze(1))\n",
    "            optimizer.zero_grad()\n",
    "            \n",
    "            # We then call loss.backward(), which computes the gradient of the loss with respect to all \n",
    "            # the weights and biases in the policy_net.\n",
    "            loss.backward()\n",
    "            \n",
    "            # We now call step() on our optimizer, which updates the weights and biases with the gradients \n",
    "            # that were computed when we called backward() on our loss.\n",
    "            optimizer.step()\n",
    "            \n",
    "        # We then check to see if the last action our agent took ended the episode by getting the value of \n",
    "        # done from our environment manager em. If the episode ended, then we append the current timestep to \n",
    "        # the episode_durations list to store how long this particular episode lasted.\n",
    "        # We then plot the duration and the 100-period moving average to the screen and break out of the inner \n",
    "        # loop so that we can start a new episode.\n",
    "        if em.done:\n",
    "            episode_durations.append(timestep)\n",
    "            plot(episode_durations, 100)\n",
    "            break\n",
    "    \n",
    "    # we have one final check to see if we should do an update to our target_net.\n",
    "    #  our target_update variable is set to 10, so we check if our current episode is a multiple of 10, \n",
    "    # and if it is, then we update the target_net weights with the policy_net weights.\n",
    "    if episode % target_update == 0:\n",
    "        target_net.load_state_dict(policy_net.state_dict())\n",
    "\n",
    "# At this point, we can start a new episode. This whole process will end once we've reached the \n",
    "# number of episodes set in num_episodes. At that point, we'll close the environment manager.\n",
    "em.close()"
   ]
  }
 ],
 "metadata": {
  "kernelspec": {
   "display_name": "Python 3",
   "language": "python",
   "name": "python3"
  },
  "language_info": {
   "codemirror_mode": {
    "name": "ipython",
    "version": 3
   },
   "file_extension": ".py",
   "mimetype": "text/x-python",
   "name": "python",
   "nbconvert_exporter": "python",
   "pygments_lexer": "ipython3",
   "version": "3.6.13"
  }
 },
 "nbformat": 4,
 "nbformat_minor": 5
}
